{
 "cells": [
  {
   "cell_type": "markdown",
   "id": "d01c6f83",
   "metadata": {},
   "source": [
    "### Therapeutics Data Commons: ADMET\n",
    "### Show Results\n"
   ]
  },
  {
   "cell_type": "code",
   "execution_count": 2,
   "id": "ff49d007",
   "metadata": {},
   "outputs": [
    {
     "name": "stdout",
     "output_type": "stream",
     "text": [
      "MiniMol mean rank:     4.82\n",
      "MolE mean rank:        9.86\n",
      "TabPFNv2 mean rank:     7.14\n",
      "XGBoost mean rank:    13.14\n",
      "\n",
      "TabPFNv2 on 1º:         3/22 times\n",
      "TabPFNv2 > MiniMol:     9/22 times\n",
      "TabPFNv2 > MolE:       13/22 times\n",
      "TabPFNv2 > XGBoost:    19/22 times\n"
     ]
    }
   ],
   "source": [
    "from utils import load_json\n",
    "from tdc_bechmarks_july2025 import benchmark_results, get_sota_df, add_results_to_benchmark, merge_dfs, create_results_df, create_results_df, merge_dfs\n",
    "\n",
    "tabpfn_results_dict = load_json(\"results_tabpfn.json\")\n",
    "xgboost_results_dict = load_json(\"results_xgboost.json\")\n",
    "previous_sota_df = get_sota_df(benchmark_results)\n",
    "\n",
    "# Add TabPFNv2 and XGBoost results to the benchmark results\n",
    "benchmark_results = add_results_to_benchmark(benchmark_results, tabpfn_results_dict, \"RDKit2D + TabPFNv2\")\n",
    "benchmark_results = add_results_to_benchmark(benchmark_results, xgboost_results_dict, \"RDKit2D + XGBoost\")\n",
    "\n",
    "# Get MiniMol and MolE results from the benchmark results\n",
    "# Every value of MolE is from the paper, they have not submitted to the leaderboard nor have a GitHub with results\n",
    "mole_results_dict = {k: v['leaderboard']['MolE'] for k, v in benchmark_results.items() if 'MolE' in v['leaderboard']}\n",
    "minimol_results_dict = {k: v['leaderboard']['MiniMol'] for k, v in benchmark_results.items() if 'MiniMol' in v['leaderboard']}\n",
    "\n",
    "tabpfn_df = create_results_df(tabpfn_results_dict, \"RDKit2D + TabPFNv2 \")\n",
    "minimol_df = create_results_df(minimol_results_dict, \"MiniMol \")\n",
    "mole_df = create_results_df(mole_results_dict, \"MolE \")\n",
    "xgb_df = create_results_df(xgboost_results_dict, \"RDKit2D + XGBoost \")\n",
    "\n",
    "results = merge_dfs([previous_sota_df, minimol_df, mole_df, tabpfn_df, xgb_df])\n",
    "\n",
    "print(f\"MiniMol mean rank:     {results['MiniMol position'].mean():.2f}\")\n",
    "print(f\"MolE mean rank:        {results['MolE position'].mean():.2f}\")\n",
    "print(f\"TabPFNv2 mean rank:     {results['RDKit2D + TabPFNv2 position'].mean():.2f}\")\n",
    "print(f\"XGBoost mean rank:    {results['RDKit2D + XGBoost position'].mean():.2f}\")\n",
    "print()\n",
    "\n",
    "print(f\"TabPFNv2 on 1º:         {(results['RDKit2D + TabPFNv2 position'] == 1).sum()}/{results.shape[0]} times\")\n",
    "print(f\"TabPFNv2 > MiniMol:     {(results['RDKit2D + TabPFNv2 position'] < results['MiniMol position']).sum()}/{results.shape[0]} times\")\n",
    "print(f\"TabPFNv2 > MolE:       {(results['RDKit2D + TabPFNv2 position'] < results['MolE position']).sum()}/{results.shape[0]} times\")\n",
    "print(f\"TabPFNv2 > XGBoost:    {(results['RDKit2D + TabPFNv2 position'] < results['RDKit2D + XGBoost position']).sum()}/{results.shape[0]} times\")"
   ]
  },
  {
   "cell_type": "markdown",
   "id": "4e4076f4",
   "metadata": {},
   "source": [
    "## Critical Difference Diagram"
   ]
  },
  {
   "cell_type": "code",
   "execution_count": 19,
   "id": "de71762c",
   "metadata": {},
   "outputs": [
    {
     "data": {
      "image/png": "[encoded data removed]",
      "text/plain": [
       "<Figure size 800x200 with 1 Axes>"
      ]
     },
     "metadata": {},
     "output_type": "display_data"
    }
   ],
   "source": [
    "import scikit_posthocs as sp\n",
    "#from scikit_posthocs import graph_cd\n",
    "import matplotlib.pyplot as plt\n",
    "from math import sqrt\n",
    "\n",
    "positions_cd = results[list(results.filter(regex='position'))] \n",
    "# Keep just the name of the models\n",
    "positions_cd.columns = [\" \".join(s.split()[:-1]) for s in positions_cd.columns]\n",
    "mean_ranks = positions_cd.mean()\n",
    "\n",
    "nemenyi = sp.posthoc_nemenyi_friedman(positions_cd)\n",
    "\n",
    "\n",
    "# Ejemplo simple\n",
    "fig, ax = plt.subplots(figsize=(8, 2))\n",
    "ax.set_title('Critical Difference diagram', fontsize=16)\n",
    "# Cambiar el grosor de los ejes\n",
    "for spine in ax.spines.values():\n",
    "    spine.set_linewidth(2)  # Cambia 2 por el grosor que quieras\n",
    "ax.tick_params(axis='x', labelsize=14)  # eje x\n",
    "ax.tick_params(axis='y', labelsize=14)  # eje y\n",
    "\n",
    "sp.critical_difference_diagram(\n",
    "    ranks=mean_ranks,\n",
    "    sig_matrix=nemenyi,\n",
    "    label_fmt_left='{label}  ',\n",
    "    label_fmt_right='  {label}',\n",
    "    label_props={'fontsize': 16},\n",
    "    color_palette =['black']*len(mean_ranks),\n",
    "    marker_props={'s': 0},\n",
    "    elbow_props={'linewidth': 2},\n",
    "    crossbar_props ={'linewidth': 4},\n",
    "    text_h_margin = 0.5,\n",
    "\n",
    ")\n",
    "\n",
    "plt.xlim(0, 16) \n",
    "# pdf for the poster, png for the website\n",
    "plt.savefig(\"results/critical_difference_diagram.pdf\", bbox_inches=\"tight\")\n",
    "plt.savefig(\"results/critical_difference_diagram.png\", bbox_inches=\"tight\")\n",
    "plt.show()\n"
   ]
  },
  {
   "cell_type": "markdown",
   "id": "14689fef",
   "metadata": {},
   "source": [
    "### Check how many parameters the model has"
   ]
  },
  {
   "cell_type": "code",
   "execution_count": null,
   "id": "f846ef71",
   "metadata": {},
   "outputs": [
    {
     "name": "stdout",
     "output_type": "stream",
     "text": [
      "Regressor total params: 11,091,865\n",
      "Classifier total params: 7,244,554\n"
     ]
    }
   ],
   "source": [
    "import torch\n",
    "\n",
    "ckpt_path = \"tabpfn_ckpts/\"\n",
    "ckpts = {'Regressor': 'tabpfn-v2-regressor.ckpt',\n",
    "         'Classifier': 'tabpfn-v2-classifier-finetuned-zk73skhh.ckpt'}\n",
    "\n",
    "for task, ckpt_name in ckpts.items():\n",
    "    ckpt = torch.load(ckpt_path + ckpt_name, map_location='cpu')\n",
    "\n",
    "    state_dict = ckpt.get(\"state_dict\", ckpt)\n",
    "    total_params = sum(p.numel() for p in state_dict.values() if isinstance(p, torch.Tensor))\n",
    "\n",
    "    print(f\"{task} total params: {total_params:,}\")"
   ]
  }
 ],
 "metadata": {
  "kernelspec": {
   "display_name": "Python 3",
   "language": "python",
   "name": "python3"
  },
  "language_info": {
   "codemirror_mode": {
    "name": "ipython",
    "version": 3
   },
   "file_extension": ".py",
   "mimetype": "text/x-python",
   "name": "python",
   "nbconvert_exporter": "python",
   "pygments_lexer": "ipython3",
   "version": "3.12.11"
  }
 },
 "nbformat": 4,
 "nbformat_minor": 5
}
